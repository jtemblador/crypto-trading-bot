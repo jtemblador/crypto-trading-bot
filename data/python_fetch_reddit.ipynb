{
 "cells": [
  {
   "cell_type": "code",
   "execution_count": null,
   "id": "78062de7-ed3d-49a3-823f-bb7fe399e114",
   "metadata": {},
   "outputs": [],
   "source": [
    "import praw\n",
    "import time\n",
    "import datetime\n",
    "import os\n",
    "\n",
    "# Configuration (replace with your Reddit API credentials)\n",
    "reddit_client_id = \"YOUR_CLIENT_ID\"\n",
    "reddit_client_secret = \"YOUR_CLIENT_SECRET\"\n",
    "reddit_user_agent = \"YourBotName/1.0\"  # Or your application name\n",
    "subreddit_name = \"yourtargetsubreddit\"  # e.g., \"CryptoCurrency\"\n",
    "data_dir = \"reddit_data\"  # Directory to save fetched data\n",
    "\n",
    "def fetch_reddit_data():\n",
    "    \"\"\"\n",
    "    Fetches new posts from a subreddit and saves them to a file.\n",
    "    \"\"\"\n",
    "\n",
    "    try:\n",
    "        reddit = praw.Reddit(\n",
    "            client_id=reddit_client_id,\n",
    "            client_secret=reddit_client_secret,\n",
    "            user_agent=reddit_user_agent,\n",
    "        )\n",
    "\n",
    "        subreddit = reddit.subreddit(subreddit_name)\n",
    "\n",
    "        new_posts = subreddit.new(limit=10)  # Fetch the 10 newest posts\n",
    "\n",
    "        timestamp = datetime.datetime.now().strftime(\"%Y%m%d_%H%M%S\")\n",
    "        filename = f\"{data_dir}/{subreddit_name}_{timestamp}.txt\"\n",
    "\n",
    "        if not os.path.exists(data_dir):\n",
    "            os.makedirs(data_dir)\n",
    "\n",
    "        with open(filename, \"w\", encoding=\"utf-8\") as f:\n",
    "            for post in new_posts:\n",
    "                f.write(f\"Title: {post.title}\\n\")\n",
    "                f.write(f\"Author: {post.author.name}\\n\")\n",
    "                f.write(f\"Score: {post.score}\\n\")\n",
    "                f.write(f\"URL: {post.url}\\n\")\n",
    "                f.write(f\"Created UTC: {post.created_utc}\\n\")\n",
    "                f.write(f\"Text: {post.selftext}\\n\")  # If it's a self-post\n",
    "                f.write(\"-\" * 40 + \"\\n\")\n",
    "\n",
    "        print(f\"Data fetched and saved to {filename}\")\n",
    "\n",
    "    except Exception as e:\n",
    "        print(f\"Error fetching data: {e}\")\n",
    "\n",
    "# Main loop (simulates a scheduler)\n",
    "if __name__ == \"__main__\":\n",
    "    while True:\n",
    "        fetch_reddit_data()\n",
    "        time.sleep(600)  # Fetch data every 10 minutes (adjust as needed)"
   ]
  }
 ],
 "metadata": {
  "kernelspec": {
   "display_name": "Python 3 (ipykernel)",
   "language": "python",
   "name": "python3"
  },
  "language_info": {
   "codemirror_mode": {
    "name": "ipython",
    "version": 3
   },
   "file_extension": ".py",
   "mimetype": "text/x-python",
   "name": "python",
   "nbconvert_exporter": "python",
   "pygments_lexer": "ipython3",
   "version": "3.12.7"
  }
 },
 "nbformat": 4,
 "nbformat_minor": 5
}
